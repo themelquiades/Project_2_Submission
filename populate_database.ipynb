{
 "cells": [
  {
   "cell_type": "code",
   "execution_count": null,
   "id": "d91df12a-77b7-4adf-95bd-7a1e2405aba9",
   "metadata": {},
   "outputs": [],
   "source": [
    "import pandas as pd\n",
    "import shutil\n",
    "import os\n",
    "import requests\n",
    "from datetime import datetime\n",
    "from dotenv import load_dotenv\n",
    "from pathlib import Path\n",
    "from zipfile import ZipFile\n",
    "from os.path import exists"
   ]
  },
  {
   "cell_type": "code",
   "execution_count": null,
   "id": "3b8a3616-1530-4294-a2b0-ef6fd04ad8a3",
   "metadata": {},
   "outputs": [],
   "source": [
    "# Import our utils libraries\n",
    "from utils.mongo import (\n",
    "    connect_to_db,\n",
    "    csv_to_mongo,\n",
    "    update_fng,\n",
    "    update_coinpairs,\n",
    "    update_timeframes,\n",
    "    get_keywords,\n",
    "    get_main_coin,\n",
    "    get_coinpairs\n",
    ")\n",
    "from utils.fear_and_greed import (\n",
    "    get_fng\n",
    ")\n",
    "from utils.binance import (\n",
    "    get_coinpair_kline\n",
    ")\n",
    "\n",
    "from utils.url_exists import (\n",
    "    url_exists\n",
    ")\n",
    "from utils.google_trends import (\n",
    "    process_trends,\n",
    "    populate_google_trends\n",
    ")"
   ]
  },
  {
   "cell_type": "code",
   "execution_count": null,
   "id": "e43552d4-44d3-4333-aaaa-1fdcc64253c1",
   "metadata": {},
   "outputs": [
    {
     "name": "stdout",
     "output_type": "stream",
     "text": [
      "5.0.6\n"
     ]
    }
   ],
   "source": [
    "# Load Environment Variables\n",
    "load_dotenv()\n",
    "\n",
    "# Connect to the DB\n",
    "db = connect_to_db(os.getenv('MDB_CONNECTION_STRING'))"
   ]
  },
  {
   "cell_type": "code",
   "execution_count": null,
   "id": "e6655fd4-f18e-4810-b036-f07c7c018fdc",
   "metadata": {},
   "outputs": [],
   "source": [
    "# Function to download the Zip files locally, unzip them then merge the csv files to upload them to the database. Deletes the folders after\n",
    "def process_binance_files(db, timeframe, coinpair, binance_timeframes_list):\n",
    "    max_years = 5\n",
    "    current_year = datetime.now().year\n",
    "    last_month = datetime.now().month - 1\n",
    "    year = current_year\n",
    "    months = 12\n",
    "    month = last_month\n",
    "    os.chdir(\"..\")\n",
    "    while (month <= months) and (year >= (current_year-max_years)):\n",
    "        str_month = str(month)\n",
    "        if len(str_month)==1:\n",
    "            str_month = \"0\" + str(month)\n",
    "        else:\n",
    "            str_month = str(month)\n",
    "        directory = \"./\"+coinpair+\"_\"+timeframe\n",
    "        filename = coinpair+'-'+timeframe+'-'+str(year)+'-'+str_month+'.zip'\n",
    "        csv_filename = coinpair+'-'+timeframe+'-'+str(year)+'-'+str_month+'.csv'\n",
    "        # Check if file exists if it does, skip.\n",
    "        file_exists = exists(directory+\"/\"+csv_filename)\n",
    "        url = 'https://data.binance.vision/data/spot/monthly/klines/'+coinpair+'/'+timeframe+'/'+filename\n",
    "        print(url)\n",
    "        valid=url_exists(url)\n",
    "        if valid==True:\n",
    "            if file_exists == False:\n",
    "                r = requests.get(url, allow_redirects=True)\n",
    "                if not os.path.exists(directory):\n",
    "                    os.makedirs(directory)\n",
    "                location = directory +\"/\"+filename\n",
    "                open(location, 'wb').write(r.content)\n",
    "                os.chdir(coinpair+\"_\"+timeframe)\n",
    "                with ZipFile(filename, 'r') as zipObj:\n",
    "                    # Extract all the contents of zip file in current directory\n",
    "                    zipObj.extractall()\n",
    "                    if os.path.exists(filename):\n",
    "                        os.remove(filename)\n",
    "                os.chdir(\"..\")\n",
    "            else:\n",
    "                print(f\"File {csv_filename} exists, skipping download..\")\n",
    "            # Load csv and upload to mongodb\n",
    "            csv_to_mongo(db, directory+\"/\"+csv_filename, coinpair+\"_\"+timeframe)\n",
    "\n",
    "        else:\n",
    "            year = year - max_years\n",
    "        # Update month and year\n",
    "        if month==1:\n",
    "            month = 12\n",
    "            year = year-1\n",
    "        else:\n",
    "            month = month - 1"
   ]
  },
  {
   "cell_type": "code",
   "execution_count": null,
   "id": "57c36683-5c55-4ed2-a766-105d768eeb6c",
   "metadata": {},
   "outputs": [],
   "source": [
    "def process(db, binance_timeframes_list, coinpair_list):\n",
    "    for timeframe in binance_timeframes_list:\n",
    "        for pair in coinpair_list:\n",
    "            collection_name=pair[\"pair\"]+\"_\"+timeframe\n",
    "            if collection_name not in db.list_collection_names():  \n",
    "                print(f\"Creating collection: {collection_name}\")\n",
    "                process_binance_files(db, timeframe, pair[\"pair\"], binance_timeframes_list)\n",
    "                path = f\"./{collection_name}\"\n",
    "                shutil.rmtree(path)\n",
    "            else:\n",
    "                print(f\"Collection {collection_name} found, skipping..\")"
   ]
  },
  {
   "cell_type": "code",
   "execution_count": null,
   "id": "ba6071bd-33f5-4806-821e-f76623697296",
   "metadata": {},
   "outputs": [],
   "source": [
    "# Function to initialize the databse with the coinpairs registered\n",
    "def init_google_trends(db, coinpairs):\n",
    "    for coinpair in coinpairs:\n",
    "        coin_name = get_main_coin(db, coinpair)\n",
    "        collection_name=\"trends_\"+coin_name\n",
    "        if collection_name not in db.list_collection_names():  \n",
    "            print(f\"Pulling trends for {coin_name}\")\n",
    "            keywords = get_keywords(db, coinpair)\n",
    "            populate_google_trends(db, coinpair, keywords, coin_name)\n",
    "        else:\n",
    "            print(f\"Collection {collection_name} found, skipping..\")\n",
    "            \n",
    "    print(f\"Done pulling trends.\")"
   ]
  },
  {
   "cell_type": "code",
   "execution_count": null,
   "id": "910d667f-fe2f-4928-9982-01ee19ec990b",
   "metadata": {},
   "outputs": [
    {
     "name": "stdout",
     "output_type": "stream",
     "text": [
      "Collection ADABUSD_1m found, skipping..\n",
      "Collection SOLBUSD_1m found, skipping..\n",
      "Collection BTCBUSD_1m found, skipping..\n",
      "Collection ETHBUSD_1m found, skipping..\n",
      "Collection LUNABUSD_1m found, skipping..\n",
      "Collection DOGEBUSD_1m found, skipping..\n",
      "Collection MATICBUSD_1m found, skipping..\n",
      "Collection MANABUSD_1m found, skipping..\n",
      "Collection SHIBBUSD_1m found, skipping..\n",
      "Collection ADABUSD_5m found, skipping..\n",
      "Collection SOLBUSD_5m found, skipping..\n",
      "Collection BTCBUSD_5m found, skipping..\n",
      "Collection ETHBUSD_5m found, skipping..\n",
      "Collection LUNABUSD_5m found, skipping..\n",
      "Collection DOGEBUSD_5m found, skipping..\n",
      "Collection MATICBUSD_5m found, skipping..\n",
      "Collection MANABUSD_5m found, skipping..\n",
      "Collection SHIBBUSD_5m found, skipping..\n",
      "Collection ADABUSD_30m found, skipping..\n",
      "Collection SOLBUSD_30m found, skipping..\n",
      "Collection BTCBUSD_30m found, skipping..\n",
      "Collection ETHBUSD_30m found, skipping..\n",
      "Collection LUNABUSD_30m found, skipping..\n",
      "Collection DOGEBUSD_30m found, skipping..\n",
      "Collection MATICBUSD_30m found, skipping..\n",
      "Collection MANABUSD_30m found, skipping..\n",
      "Collection SHIBBUSD_30m found, skipping..\n",
      "Collection ADABUSD_1h found, skipping..\n",
      "Collection SOLBUSD_1h found, skipping..\n",
      "Collection BTCBUSD_1h found, skipping..\n",
      "Collection ETHBUSD_1h found, skipping..\n",
      "Collection LUNABUSD_1h found, skipping..\n",
      "Collection DOGEBUSD_1h found, skipping..\n",
      "Collection MATICBUSD_1h found, skipping..\n",
      "Collection MANABUSD_1h found, skipping..\n",
      "Collection SHIBBUSD_1h found, skipping..\n",
      "Collection ADABUSD_4h found, skipping..\n",
      "Collection SOLBUSD_4h found, skipping..\n",
      "Collection BTCBUSD_4h found, skipping..\n",
      "Collection ETHBUSD_4h found, skipping..\n",
      "Collection LUNABUSD_4h found, skipping..\n",
      "Collection DOGEBUSD_4h found, skipping..\n",
      "Collection MATICBUSD_4h found, skipping..\n",
      "Collection MANABUSD_4h found, skipping..\n",
      "Collection SHIBBUSD_4h found, skipping..\n",
      "Collection ADABUSD_1d found, skipping..\n",
      "Collection SOLBUSD_1d found, skipping..\n",
      "Collection BTCBUSD_1d found, skipping..\n",
      "Collection ETHBUSD_1d found, skipping..\n",
      "Collection LUNABUSD_1d found, skipping..\n",
      "Collection DOGEBUSD_1d found, skipping..\n",
      "Collection MATICBUSD_1d found, skipping..\n",
      "Collection MANABUSD_1d found, skipping..\n",
      "Collection SHIBBUSD_1d found, skipping..\n"
     ]
    }
   ],
   "source": [
    "# Choose what to import\n",
    "coinpair_list = [\n",
    "    {'pair': 'ADABUSD', 'main': 'ADA', 'keywords': ['ADA','CARDANO']},\n",
    "    {'pair': 'SOLBUSD', 'main': 'SOL', 'keywords': ['SOL','SOLANA']},\n",
    "    {'pair': 'BTCBUSD', 'main': 'BTC', 'keywords': ['BTC','BITCOIN']},\n",
    "    {'pair': 'ETHBUSD', 'main': 'ETH', 'keywords': ['ETH','ETHEREUM']},\n",
    "    {'pair': 'LUNABUSD', 'main': 'LUNA', 'keywords': ['LUNA COIN','TERRA COIN']},\n",
    "    {'pair': 'DOGEBUSD', 'main': 'DOGE', 'keywords': ['DOGECOIN','DOGE']},\n",
    "    {'pair': 'MATICBUSD', 'main': 'MATIC', 'keywords': ['MATIC','POLYGON', 'POLYGON MATIC']},\n",
    "    {'pair': 'MANABUSD', 'main': 'MANA', 'keywords': ['DECENTRALAND']},\n",
    "    {'pair': 'SHIBBUSD', 'main': 'SHIB', 'keywords': ['SHIBA INU']},\n",
    "]\n",
    "binance_timeframes_list = ['1m', '5m', '30m', '1h', '4h', '1d']\n",
    "\n",
    "# Call the function to populate the Database with the data downloaded from Binance website as zip\n",
    "process(db, binance_timeframes_list, coinpair_list)"
   ]
  },
  {
   "cell_type": "code",
   "execution_count": null,
   "id": "04e22e1e-bd67-43c3-81d9-07c12921decc",
   "metadata": {},
   "outputs": [
    {
     "name": "stdout",
     "output_type": "stream",
     "text": [
      "Done downloading Fear and Greed Index\n"
     ]
    }
   ],
   "source": [
    "# Download and update the Fear and Greed index data to the database\n",
    "fng_data_df = get_fng()\n",
    "update_fng(db, fng_data_df)"
   ]
  },
  {
   "cell_type": "code",
   "execution_count": null,
   "id": "6bb81493-f9c1-4779-8724-720f3627b9ba",
   "metadata": {},
   "outputs": [],
   "source": [
    "# Update the coin pairs and the timeframes if needed\n",
    "for coinpair in coinpair_list:\n",
    "    update_coinpairs(db, coinpair)\n",
    "for timeframe in binance_timeframes_list:\n",
    "    update_timeframes(db, timeframe)"
   ]
  },
  {
   "cell_type": "code",
   "execution_count": null,
   "id": "35327a79-27cd-4e95-a85c-a2ea45e2c230",
   "metadata": {},
   "outputs": [
    {
     "name": "stdout",
     "output_type": "stream",
     "text": [
      "Collection trends_ADA found, skipping..\n",
      "Collection trends_SOL found, skipping..\n",
      "Collection trends_BTC found, skipping..\n",
      "Collection trends_ETH found, skipping..\n",
      "Collection trends_LUNA found, skipping..\n",
      "Collection trends_DOGE found, skipping..\n",
      "Collection trends_MATIC found, skipping..\n",
      "Collection trends_MANA found, skipping..\n",
      "Pulling trends for SHIB\n",
      "2020-04-10 03:32:09.772802+00:00 - 2020-05-10 03:32:09.772802+00:00 | ['SHIBA INU']\n",
      "2020-05-10 03:32:09.772802+00:00 - 2020-06-10 03:32:09.772802+00:00 | ['SHIBA INU']\n",
      "2020-06-10 03:32:09.772802+00:00 - 2020-07-10 03:32:09.772802+00:00 | ['SHIBA INU']\n",
      "2020-07-10 03:32:09.772802+00:00 - 2020-08-10 03:32:09.772802+00:00 | ['SHIBA INU']\n",
      "2020-08-10 03:32:09.772802+00:00 - 2020-09-10 03:32:09.772802+00:00 | ['SHIBA INU']\n",
      "2020-09-10 03:32:09.772802+00:00 - 2020-10-10 03:32:09.772802+00:00 | ['SHIBA INU']\n",
      "2020-10-10 03:32:09.772802+00:00 - 2020-11-10 03:32:09.772802+00:00 | ['SHIBA INU']\n",
      "2020-11-10 03:32:09.772802+00:00 - 2020-12-10 03:32:09.772802+00:00 | ['SHIBA INU']\n",
      "2020-12-10 03:32:09.772802+00:00 - 2021-01-10 03:32:09.772802+00:00 | ['SHIBA INU']\n",
      "2021-01-10 03:32:09.772802+00:00 - 2021-02-10 03:32:09.772802+00:00 | ['SHIBA INU']\n",
      "2021-02-10 03:32:09.772802+00:00 - 2021-03-10 03:32:09.772802+00:00 | ['SHIBA INU']\n",
      "2021-03-10 03:32:09.772802+00:00 - 2021-04-10 03:32:09.772802+00:00 | ['SHIBA INU']\n",
      "2021-04-10 03:32:09.772802+00:00 - 2021-05-10 03:32:09.772802+00:00 | ['SHIBA INU']\n",
      "2021-05-10 03:32:09.772802+00:00 - 2021-06-10 03:32:09.772802+00:00 | ['SHIBA INU']\n",
      "2021-06-10 03:32:09.772802+00:00 - 2021-07-10 03:32:09.772802+00:00 | ['SHIBA INU']\n",
      "2021-07-10 03:32:09.772802+00:00 - 2021-08-10 03:32:09.772802+00:00 | ['SHIBA INU']\n",
      "2021-08-10 03:32:09.772802+00:00 - 2021-09-10 03:32:09.772802+00:00 | ['SHIBA INU']\n",
      "2021-09-10 03:32:09.772802+00:00 - 2021-10-10 03:32:09.772802+00:00 | ['SHIBA INU']\n",
      "2021-10-10 03:32:09.772802+00:00 - 2021-11-10 03:32:09.772802+00:00 | ['SHIBA INU']\n",
      "2021-11-10 03:32:09.772802+00:00 - 2021-12-10 03:32:09.772802+00:00 | ['SHIBA INU']\n",
      "2021-12-10 03:32:09.772802+00:00 - 2022-01-10 03:32:09.772802+00:00 | ['SHIBA INU']\n",
      "2022-01-10 03:32:09.772802+00:00 - 2022-02-10 03:32:09.772802+00:00 | ['SHIBA INU']\n",
      "2022-02-10 03:32:09.772802+00:00 - 2022-03-10 03:32:09.772802+00:00 | ['SHIBA INU']\n",
      "2022-03-10 03:32:09.772802+00:00 - 2022-04-10 03:32:09.772802+00:00 | ['SHIBA INU']\n",
      "Done pulling trends.\n"
     ]
    }
   ],
   "source": [
    "# Get coinpair list from database\n",
    "coinpairs = get_coinpairs(db)\n",
    "\n",
    "# Populate Google Trends\n",
    "init_google_trends(db, coinpairs) "
   ]
  },
  {
   "cell_type": "code",
   "execution_count": null,
   "id": "0755f0e8-890f-4f1e-89d3-c120f1bc86de",
   "metadata": {},
   "outputs": [],
   "source": []
  }
 ],
 "metadata": {
  "kernelspec": {
   "display_name": "Python 3 (ipykernel)",
   "language": "python",
   "name": "python3"
  },
  "language_info": {
   "codemirror_mode": {
    "name": "ipython",
    "version": 3
   },
   "file_extension": ".py",
   "mimetype": "text/x-python",
   "name": "python",
   "nbconvert_exporter": "python",
   "pygments_lexer": "ipython3",
   "version": "3.9.7"
  }
 },
 "nbformat": 4,
 "nbformat_minor": 5
}
