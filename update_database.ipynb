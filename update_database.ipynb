{
 "cells": [
  {
   "cell_type": "code",
   "execution_count": null,
   "id": "0bea4e7c-b02b-47d2-b0ac-e2412594333c",
   "metadata": {},
   "outputs": [],
   "source": [
    "import pandas as pd      \n",
    "import os\n",
    "import time\n",
    "import glob\n",
    "from pymongo import MongoClient\n",
    "from pprint import pprint\n",
    "from dotenv import load_dotenv\n",
    "from datetime import datetime,timezone,timedelta\n",
    "from pathlib import Path"
   ]
  },
  {
   "cell_type": "code",
   "execution_count": null,
   "id": "d0fbc3e0-9dec-4687-bebd-a4bf4c398ffd",
   "metadata": {},
   "outputs": [],
   "source": [
    "# Import our utils libraries\n",
    "from utils.mongo import (\n",
    "    connect_to_db,\n",
    "    get_coinpairs,\n",
    "    get_binance_timeframes_list,\n",
    "    get_pair_data,\n",
    "    #get_coinpair_df_mongo,\n",
    "    #get_google_trends_mongo,\n",
    "    #get_fng_mongo,\n",
    "    get_keywords,\n",
    "    get_main_coin,\n",
    "    update_trends_db,\n",
    "    #get_last_coinpair_update\n",
    ")\n",
    "from utils.binance import (\n",
    "    get_coinpair_kline\n",
    ")\n",
    "from utils.google_trends import (\n",
    "    process_trends,\n",
    "    get_google_trends\n",
    ")"
   ]
  },
  {
   "cell_type": "code",
   "execution_count": null,
   "id": "6df704b5-f0d2-4e68-a65a-bf13d6c2457c",
   "metadata": {},
   "outputs": [
    {
     "name": "stdout",
     "output_type": "stream",
     "text": [
      "5.0.6\n"
     ]
    }
   ],
   "source": [
    "# Load Environment Variables\n",
    "load_dotenv()\n",
    "\n",
    "# Connect to the DB\n",
    "db = connect_to_db(os.getenv('MDB_CONNECTION_STRING'))"
   ]
  },
  {
   "cell_type": "code",
   "execution_count": null,
   "id": "7e46cda4-2b13-49fb-b92e-2b76af5ee6b7",
   "metadata": {},
   "outputs": [],
   "source": [
    "# Gets Binance Api Key and Api Secret\n",
    "BINANCE_API_KEY = os.getenv('BINANCE_API_KEY')\n",
    "BINANCE_API_SECRET = os.getenv('BINANCE_API_SECRET')"
   ]
  },
  {
   "cell_type": "code",
   "execution_count": null,
   "id": "39a908ef-7ea2-47c4-ab67-a51ecf19592e",
   "metadata": {},
   "outputs": [],
   "source": [
    "async def process_binance_data(db, coinpairs):\n",
    "    # Get timeframes from database\n",
    "    binance_timeframes_list = get_binance_timeframes_list(db)\n",
    "    \n",
    "    # Get pair info to update DB\n",
    "    complete_pair_tf = get_pair_data(db, binance_timeframes_list, coinpairs)\n",
    "\n",
    "    headers=[\"open_time\", \"open\", \"high\", \"low\",\"close\",\"volume\",\"close_time\",\"quote_asset_volume\",\"numer_trades\",\"taker_base_volume\",\"taker_quote_volume\",\"ignore\"]\n",
    "    for query_pair in complete_pair_tf:\n",
    "        collection_name = query_pair[1]+\"_\"+query_pair[0]\n",
    "        # Get the data from Binance\n",
    "        kline_list = await get_coinpair_kline(BINANCE_API_KEY, BINANCE_API_SECRET, query_pair[1], query_pair[0], query_pair[2])\n",
    "        # If it is updating the db then delete the first item as it repeats\n",
    "        if query_pair[4] == \"is_update\":\n",
    "            kline_list.pop(0)\n",
    "            print(f\"Updating {len(kline_list)} items to {collection_name}..\")\n",
    "        else:\n",
    "            print(f\"Adding {len(kline_list)} items to {collection_name}..\")\n",
    "        # If there is items to update process\n",
    "        if len(kline_list) > 0:\n",
    "            kline_df = pd.DataFrame(kline_list, columns=headers)\n",
    "            kline_df['open_time'] = kline_df['open_time'].values.astype(dtype='datetime64[ms]')\n",
    "            kline_df['close_time'] = kline_df['close_time'].values.astype(dtype='datetime64[ms]')\n",
    "            kline_df[[\"open\", \"high\", \"low\",\"close\",\"volume\",\"quote_asset_volume\",\"taker_base_volume\",\"taker_quote_volume\"]] = kline_df[[\"open\", \"high\", \"low\",\"close\",\"volume\",\"quote_asset_volume\",\"taker_base_volume\",\"taker_quote_volume\"]].astype(float)\n",
    "            kline_df = kline_df.drop(columns=['ignore'])\n",
    "            kline_dict = kline_df.to_dict(\"records\")\n",
    "            # Save to DB\n",
    "            db[query_pair[3]].insert_many(kline_dict)\n",
    "    print(f\"Done :)\")\n"
   ]
  },
  {
   "cell_type": "code",
   "execution_count": null,
   "id": "b55bca0e-bc3c-4003-a073-ef9dda9cc4e9",
   "metadata": {},
   "outputs": [],
   "source": [
    "# Function to initialize the databse with the coinpairs registered\n",
    "def update_google_trends(db, coinpairs):\n",
    "    for coinpair in coinpairs:\n",
    "        coin_name = get_main_coin(db, coinpair)\n",
    "        print(f\"Updating trends for {coin_name}..\")\n",
    "        keywords = get_keywords(db, coinpair)\n",
    "        get_google_trends(db, coinpair, keywords, coin_name)\n",
    "            \n",
    "    print(f\"Done pulling trends.\")"
   ]
  },
  {
   "cell_type": "code",
   "execution_count": null,
   "id": "e285a9eb-3d9f-41a8-a036-2f209cf14fad",
   "metadata": {},
   "outputs": [
    {
     "name": "stdout",
     "output_type": "stream",
     "text": [
      "Updating 2 items to ADABUSD_1m..\n",
      "Updating 2 items to SOLBUSD_1m..\n",
      "Updating 2 items to BTCBUSD_1m..\n",
      "Updating 2 items to ETHBUSD_1m..\n",
      "Updating 2 items to LUNABUSD_1m..\n",
      "Updating 2 items to DOGEBUSD_1m..\n",
      "Updating 2 items to MATICBUSD_1m..\n",
      "Updating 2 items to MANABUSD_1m..\n",
      "Updating 0 items to ADABUSD_5m..\n",
      "Updating 0 items to SOLBUSD_5m..\n",
      "Updating 0 items to BTCBUSD_5m..\n",
      "Updating 0 items to ETHBUSD_5m..\n",
      "Updating 0 items to LUNABUSD_5m..\n",
      "Updating 0 items to DOGEBUSD_5m..\n",
      "Updating 0 items to MATICBUSD_5m..\n",
      "Updating 0 items to MANABUSD_5m..\n",
      "Updating 0 items to ADABUSD_30m..\n",
      "Updating 0 items to SOLBUSD_30m..\n",
      "Updating 0 items to BTCBUSD_30m..\n",
      "Updating 0 items to ETHBUSD_30m..\n",
      "Updating 0 items to LUNABUSD_30m..\n",
      "Updating 0 items to DOGEBUSD_30m..\n",
      "Updating 0 items to MATICBUSD_30m..\n",
      "Updating 0 items to MANABUSD_30m..\n",
      "Updating 0 items to ADABUSD_1h..\n",
      "Updating 0 items to SOLBUSD_1h..\n",
      "Updating 0 items to BTCBUSD_1h..\n",
      "Updating 0 items to ETHBUSD_1h..\n",
      "Updating 0 items to LUNABUSD_1h..\n",
      "Updating 0 items to DOGEBUSD_1h..\n",
      "Updating 0 items to MATICBUSD_1h..\n",
      "Updating 0 items to MANABUSD_1h..\n",
      "Updating 0 items to ADABUSD_1d..\n",
      "Updating 0 items to SOLBUSD_1d..\n",
      "Updating 0 items to BTCBUSD_1d..\n",
      "Updating 0 items to ETHBUSD_1d..\n",
      "Updating 0 items to LUNABUSD_1d..\n",
      "Updating 0 items to DOGEBUSD_1d..\n",
      "Updating 0 items to MATICBUSD_1d..\n",
      "Updating 0 items to MANABUSD_1d..\n",
      "Done :)\n",
      "Updating trends for ADA..\n",
      "The request failed: Google returned a response with code 400.\n",
      "Updating trends for SOL..\n",
      "The request failed: Google returned a response with code 400.\n",
      "Updating trends for BTC..\n",
      "The request failed: Google returned a response with code 400.\n",
      "Updating trends for ETH..\n",
      "The request failed: Google returned a response with code 400.\n",
      "Updating trends for LUNA..\n",
      "The request failed: Google returned a response with code 400.\n",
      "Updating trends for DOGE..\n",
      "The request failed: Google returned a response with code 400.\n",
      "Updating trends for MATIC..\n",
      "The request failed: Google returned a response with code 400.\n",
      "Updating trends for MANA..\n",
      "The request failed: Google returned a response with code 400.\n",
      "Done pulling trends.\n"
     ]
    }
   ],
   "source": [
    "# Get coinpair list from database\n",
    "coinpairs = get_coinpairs(db)\n",
    "\n",
    "# Update DB with the latest binance Data\n",
    "await process_binance_data(db, coinpairs)\n",
    "\n",
    "# Update Google Trends data\n",
    "update_google_trends(db, coinpairs)"
   ]
  }
 ],
 "metadata": {
  "kernelspec": {
   "display_name": "dev",
   "language": "python",
   "name": "dev"
  },
  "language_info": {
   "codemirror_mode": {
    "name": "ipython",
    "version": 3
   },
   "file_extension": ".py",
   "mimetype": "text/x-python",
   "name": "python",
   "nbconvert_exporter": "python",
   "pygments_lexer": "ipython3",
   "version": "3.7.11"
  }
 },
 "nbformat": 4,
 "nbformat_minor": 5
}
